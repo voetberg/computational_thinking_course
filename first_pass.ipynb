{
 "cells": [
  {
   "cell_type": "code",
   "execution_count": 6,
   "metadata": {},
   "outputs": [],
   "source": [
    "using Printf\n",
    "using Statistics "
   ]
  },
  {
   "cell_type": "code",
   "execution_count": 10,
   "metadata": {},
   "outputs": [
    {
     "data": {
      "text/plain": [
       "fun (generic function with 1 method)"
      ]
     },
     "execution_count": 10,
     "metadata": {},
     "output_type": "execute_result"
    }
   ],
   "source": [
    "## Function Syntastic \n",
    "function fun()\n",
    "    println(\"print\")\n",
    "end"
   ]
  },
  {
   "cell_type": "code",
   "execution_count": 26,
   "metadata": {},
   "outputs": [
    {
     "name": "stdout",
     "output_type": "stream",
     "text": [
      "A\n",
      "A\n",
      "e\n",
      "12\n",
      "8\n",
      "4:4\n",
      "true"
     ]
    }
   ],
   "source": [
    "## Some string operations \n",
    "\n",
    "str = \"A random string with no purpose\" #Need to be in double quotes\n",
    "println(str[1]) #Index from 1 for WHATEVER REASON \n",
    "println(str[begin]) #Can also use begin \n",
    "println(str[end]) #can use end to hit the end of a string\n",
    "str2 = string(\"1\",\"2\") #concat by putting them in the same constructor \n",
    "println(str2)\n",
    "int1, int2 = 1, 7\n",
    "println(\"$(int1+int2)\") #Here's your f strings\n",
    "            \n",
    "## Indexing \n",
    "println(findfirst(\"i\", \"string\"))\n",
    "print(occursin(\"a\", \"apple\"))"
   ]
  },
  {
   "cell_type": "code",
   "execution_count": 36,
   "metadata": {},
   "outputs": [
    {
     "name": "stdout",
     "output_type": "stream",
     "text": [
      "large\n"
     ]
    }
   ],
   "source": [
    "##Conditionals \n",
    "\n",
    "val = 12\n",
    "\n",
    "if val <= 4\n",
    "    println(\"small\")\n",
    "elseif val >= 4 && val <= 8\n",
    "    println(\"med\")\n",
    "else\n",
    "    println(\"large\")\n",
    "        end"
   ]
  },
  {
   "cell_type": "code",
   "execution_count": 41,
   "metadata": {},
   "outputs": [
    {
     "name": "stdout",
     "output_type": "stream",
     "text": [
      "2\n",
      "4\n",
      "6\n",
      "8\n"
     ]
    }
   ],
   "source": [
    "##Loops \n",
    "index = 1 \n",
    "while index<20\n",
    "    if (index % 2)==0\n",
    "        println(index)\n",
    "        global index+=1\n",
    "    end \n",
    "    global index+=1\n",
    "    if index>=10 \n",
    "        break \n",
    "        end \n",
    "    end \n",
    "    "
   ]
  },
  {
   "cell_type": "code",
   "execution_count": 44,
   "metadata": {},
   "outputs": [
    {
     "name": "stdout",
     "output_type": "stream",
     "text": [
      "1\n",
      "2\n",
      "3\n",
      "4\n",
      "5\n",
      "1\n",
      "4\n",
      "6\n",
      "12\n",
      "14\n",
      "16\n",
      "18\n",
      "110\n",
      "22\n",
      "24\n",
      "26\n",
      "28\n",
      "210\n",
      "32\n",
      "34\n",
      "36\n",
      "38\n",
      "310\n",
      "42\n",
      "44\n",
      "46\n",
      "48\n",
      "410\n",
      "52\n",
      "54\n",
      "56\n",
      "58\n",
      "510\n"
     ]
    }
   ],
   "source": [
    "for index=1:5\n",
    "    println(index)\n",
    "    end \n",
    "\n",
    "for index in [1,4,6]\n",
    "    println(index)\n",
    "    end \n",
    "\n",
    "for index =1:5, secondary_index = 2:2:10\n",
    "    println(index, secondary_index)\n",
    "end"
   ]
  },
  {
   "cell_type": "code",
   "execution_count": 67,
   "metadata": {},
   "outputs": [
    {
     "name": "stdout",
     "output_type": "stream",
     "text": [
      "Int32[0 0; 0 0]Int32[238533312, 0, 144769392, 0, 144801888]Float64[][1, 2, 3, 4]1\n",
      "[2, 3, 4]\n",
      "(4,)\n",
      "4\n",
      "10\n",
      "[2, 4, 6, 8]\n",
      "[2, 4, 6, 8]\n",
      "0.0\n",
      "1.0\n",
      "0.0\n",
      "[1, 4, 9, 16, 25]\n",
      "[1 1 1 1 1; 2 4 8 16 32; 3 9 27 81 243; 4 16 64 256 1024; 5 25 125 625 3125]\n",
      "[2, 3]\n",
      "[4 7 1 7 4; 6 5 9 8 4; 0 9 1 6 5; 3 6 5 4 3; 4 3 2 3 0]\n",
      "(\"N\", 1)\n"
     ]
    }
   ],
   "source": [
    "##Arrays \n",
    "\n",
    "array_of_zeros = zeros(Int32, 2, 2)\n",
    "print(array_of_zeros)\n",
    "\n",
    "array_of_undefined_ints = Array{Int32}(undef, 5)\n",
    "print(array_of_undefined_ints)\n",
    "\n",
    "array_of_floats_of_no_size = Float64[]\n",
    "print(array_of_floats_of_no_size)\n",
    "\n",
    "array_with_ints = [1, 2, 3, 4]\n",
    "print(array_with_ints)\n",
    "\n",
    "println(array_with_ints[1]) #Normal indexing, same as strings \n",
    "\n",
    "#Genertric function to find a value if greater than 2 (basically a lamnda ) \n",
    "f(a) = (a >= 2) ? true : false\n",
    "println(findall(f, array_with_ints))\n",
    "\n",
    "#Sizes \n",
    "println(size(array_with_ints))\n",
    "println(length(array_with_ints))\n",
    "println(sum(array_with_ints))\n",
    "#Splice is your append and remove function \n",
    "\n",
    "#Operation on array \n",
    "println(array_with_ints * 2)\n",
    "println(array_with_ints + array_with_ints)\n",
    "\n",
    "#functions inside arrays \n",
    "fun_array = [sin, cos, tan]\n",
    "for fun in fun_array\n",
    "    println(fun(0))\n",
    "end\n",
    "\n",
    "#Generators \n",
    "gen = [n^2 for n in 1:5]\n",
    "println(gen)\n",
    "\n",
    "gen_multi_dem = [n^m for n in 1:5, m in 1:5]\n",
    "println(gen_multi_dem)\n",
    "\n",
    "#Append in place \n",
    "single_ob = [2]\n",
    "push!(single_ob, 3)\n",
    "println(single_ob)\n",
    "\n",
    "#Random array \n",
    "random_array = rand(0:9, 5,5)\n",
    "println(random_array)\n",
    "\n",
    "#Touples are the same except they're static, and use the () definition \n",
    "#Named touple \n",
    "named = (name1 = (\"N\", 1), name2 = (\"M\", 2))\n",
    "println(named.name1)"
   ]
  },
  {
   "cell_type": "code",
   "execution_count": 71,
   "metadata": {},
   "outputs": [
    {
     "name": "stdout",
     "output_type": "stream",
     "text": [
      "3.14\n",
      "[\"gold\", \"pi\"]\n",
      "gold1.6\n",
      "pi3.14\n"
     ]
    }
   ],
   "source": [
    "## Dictionaries \n",
    "dict_val = Dict(\"pi\"=>3.14, \"e\"=>2.72)\n",
    "#Append normally \n",
    "dict_val[\"gold\"]=1.6\n",
    "#Access by key \n",
    "println(dict_val[\"pi\"])\n",
    "\n",
    "#clear values \n",
    "delete!(dict_val, \"e\")\n",
    "\n",
    "#print keys \n",
    "println(keys(dict_val)) #Can swap to values \n",
    "\n",
    "for (key, val ) in dict_val\n",
    "    println(key, val)\n",
    "    end "
   ]
  },
  {
   "cell_type": "code",
   "execution_count": 73,
   "metadata": {},
   "outputs": [
    {
     "name": "stdout",
     "output_type": "stream",
     "text": [
      "true\n"
     ]
    },
    {
     "data": {
      "text/plain": [
       "Set{Int64} with 2 elements:\n",
       "  2\n",
       "  1"
      ]
     },
     "execution_count": 73,
     "metadata": {},
     "output_type": "execute_result"
    }
   ],
   "source": [
    "#Sets are the same but they're unique, you know, as sets are \n",
    "set = Set([1,2])\n",
    "println(in(1,set))\n",
    "#Operations\n",
    "set2 = Set([3,4])\n",
    "set_union = union(set, set2)\n",
    "set_intercetion = intersect(set, set2)\n",
    "set_difference = setdiff(set, set2)"
   ]
  },
  {
   "cell_type": "code",
   "execution_count": 87,
   "metadata": {},
   "outputs": [
    {
     "name": "stdout",
     "output_type": "stream",
     "text": [
      "true\n",
      "12\n",
      "25\n",
      "15\n"
     ]
    }
   ],
   "source": [
    "#Functions \n",
    "\n",
    "get_sum(x, y) = x+y\n",
    "println(\"$(1+2 == get_sum(1,2))\")\n",
    "\n",
    "function get_sum(x,y)\n",
    "  return x+y\n",
    "    end \n",
    "\n",
    "#Variables cannot be changed globally \n",
    "var = 12\n",
    "function local_change(x)\n",
    "    x=25\n",
    "    end \n",
    "local_change(var)\n",
    "println(var)\n",
    "\n",
    "#Can force a global change \n",
    "x=12\n",
    "function global_change(x)\n",
    "    global x=25 #Has to have the same name as the global. You can't just pass in var. \n",
    "    end \n",
    "global_change(x)\n",
    "println(x)\n",
    "\n",
    "#many args \n",
    "function get_sum(args...)\n",
    "    sum=0\n",
    "    for val in args\n",
    "        sum+= val \n",
    "        end \n",
    "    return sum \n",
    "        end \n",
    "    \n",
    "println(\"$(get_sum(1,2,3,4,5))\")"
   ]
  },
  {
   "cell_type": "code",
   "execution_count": 88,
   "metadata": {},
   "outputs": [
    {
     "name": "stdout",
     "output_type": "stream",
     "text": [
      "Text for the example"
     ]
    }
   ],
   "source": [
    "#Opening files \n",
    "open(\"random_file.txt\", \"w\") do file \n",
    "    write(file, \"Text for the example\")\n",
    "    end \n",
    "\n",
    "open(\"random_file.txt\", \"r\") do file \n",
    "    data = read(file, String)\n",
    "    print(data)\n",
    "    end \n"
   ]
  }
 ],
 "metadata": {
  "kernelspec": {
   "display_name": "Julia 1.5.1",
   "language": "julia",
   "name": "julia-1.5"
  },
  "language_info": {
   "file_extension": ".jl",
   "mimetype": "application/julia",
   "name": "julia",
   "version": "1.5.1"
  }
 },
 "nbformat": 4,
 "nbformat_minor": 2
}
